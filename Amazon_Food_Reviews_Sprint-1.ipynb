{
 "cells": [
  {
   "cell_type": "markdown",
   "id": "34f3b363",
   "metadata": {},
   "source": [
    "### Getting the information about the current working directory "
   ]
  },
  {
   "cell_type": "code",
   "execution_count": 1,
   "id": "23af0b53",
   "metadata": {},
   "outputs": [
    {
     "name": "stdout",
     "output_type": "stream",
     "text": [
      "C:\\Users\\saiku\\Downloads\n"
     ]
    }
   ],
   "source": [
    "import os             # operating system\n",
    "print(os.getcwd())   # getting current working directory"
   ]
  },
  {
   "cell_type": "markdown",
   "id": "cffcc2b5",
   "metadata": {},
   "source": [
    "### Defining the file path "
   ]
  },
  {
   "cell_type": "code",
   "execution_count": 2,
   "id": "b74d091d",
   "metadata": {},
   "outputs": [],
   "source": [
    "folderpath = r'C:\\Users\\dell\\Desktop\\Machine Learning\\ML 2nd asgnmnt\\txt_reviews'"
   ]
  },
  {
   "cell_type": "code",
   "execution_count": 3,
   "id": "8d29a8d2",
   "metadata": {},
   "outputs": [
    {
     "data": {
      "text/plain": [
       "'C:\\\\Users\\\\dell\\\\Desktop\\\\Machine Learning\\\\ML 2nd asgnmnt\\\\txt_reviews'"
      ]
     },
     "execution_count": 3,
     "metadata": {},
     "output_type": "execute_result"
    }
   ],
   "source": [
    "folderpath"
   ]
  },
  {
   "cell_type": "markdown",
   "id": "9cba3abd",
   "metadata": {},
   "source": [
    "### Defining the filename of text_data"
   ]
  },
  {
   "cell_type": "code",
   "execution_count": 4,
   "id": "b500771b",
   "metadata": {},
   "outputs": [],
   "source": [
    "filename = 'review_1.txt'"
   ]
  },
  {
   "cell_type": "code",
   "execution_count": 5,
   "id": "00908bad",
   "metadata": {},
   "outputs": [
    {
     "data": {
      "text/plain": [
       "'review_1.txt'"
      ]
     },
     "execution_count": 5,
     "metadata": {},
     "output_type": "execute_result"
    }
   ],
   "source": [
    "filename"
   ]
  },
  {
   "cell_type": "markdown",
   "id": "0d3d44ce",
   "metadata": {},
   "source": [
    "### joining the file path and file name of Text_ data"
   ]
  },
  {
   "cell_type": "code",
   "execution_count": 6,
   "id": "926a3e5f",
   "metadata": {},
   "outputs": [
    {
     "data": {
      "text/plain": [
       "'C:\\\\Users\\\\dell\\\\Desktop\\\\Machine Learning\\\\ML 2nd asgnmnt\\\\txt_reviews\\\\review_1.txt'"
      ]
     },
     "execution_count": 6,
     "metadata": {},
     "output_type": "execute_result"
    }
   ],
   "source": [
    "filepath = os.path.join(folderpath,filename)\n",
    "os.path.join(folderpath,filename)"
   ]
  },
  {
   "cell_type": "markdown",
   "id": "7c2eccae",
   "metadata": {},
   "source": [
    "### opening the file path"
   ]
  },
  {
   "cell_type": "code",
   "execution_count": 7,
   "id": "23fce229",
   "metadata": {},
   "outputs": [
    {
     "ename": "FileNotFoundError",
     "evalue": "[Errno 2] No such file or directory: 'C:\\\\Users\\\\dell\\\\Desktop\\\\Machine Learning\\\\ML 2nd asgnmnt\\\\txt_reviews\\\\review_1.txt'",
     "output_type": "error",
     "traceback": [
      "\u001b[1;31m---------------------------------------------------------------------------\u001b[0m",
      "\u001b[1;31mFileNotFoundError\u001b[0m                         Traceback (most recent call last)",
      "\u001b[1;32m~\\AppData\\Local\\Temp/ipykernel_15244/4130803128.py\u001b[0m in \u001b[0;36m<module>\u001b[1;34m\u001b[0m\n\u001b[1;32m----> 1\u001b[1;33m \u001b[0mfile\u001b[0m \u001b[1;33m=\u001b[0m \u001b[0mopen\u001b[0m\u001b[1;33m(\u001b[0m\u001b[0mfilepath\u001b[0m\u001b[1;33m)\u001b[0m\u001b[1;33m\u001b[0m\u001b[1;33m\u001b[0m\u001b[0m\n\u001b[0m",
      "\u001b[1;31mFileNotFoundError\u001b[0m: [Errno 2] No such file or directory: 'C:\\\\Users\\\\dell\\\\Desktop\\\\Machine Learning\\\\ML 2nd asgnmnt\\\\txt_reviews\\\\review_1.txt'"
     ]
    }
   ],
   "source": [
    "file = open(filepath)"
   ]
  },
  {
   "cell_type": "code",
   "execution_count": null,
   "id": "5f563802",
   "metadata": {},
   "outputs": [],
   "source": [
    "file"
   ]
  },
  {
   "cell_type": "markdown",
   "id": "c86322f3",
   "metadata": {},
   "source": [
    "### Reading the file path of text data where it exists"
   ]
  },
  {
   "cell_type": "code",
   "execution_count": null,
   "id": "1d54e7c1",
   "metadata": {},
   "outputs": [],
   "source": [
    "path=r\"C:\\Users\\dell\\Desktop\\Machine Learning\\ML 2nd asgnmnt\""
   ]
  },
  {
   "cell_type": "code",
   "execution_count": null,
   "id": "7353700c",
   "metadata": {},
   "outputs": [],
   "source": [
    "path"
   ]
  },
  {
   "cell_type": "code",
   "execution_count": null,
   "id": "a155a1c1",
   "metadata": {},
   "outputs": [],
   "source": [
    "import os"
   ]
  },
  {
   "cell_type": "markdown",
   "id": "b3d2f1d5",
   "metadata": {},
   "source": [
    "### we are checking the files present in that folders"
   ]
  },
  {
   "cell_type": "code",
   "execution_count": null,
   "id": "676b9427",
   "metadata": {},
   "outputs": [],
   "source": [
    "os.listdir()   # listdir () returns a list containing the names of the entries in the directory given by path"
   ]
  },
  {
   "cell_type": "markdown",
   "id": "fb583a99",
   "metadata": {},
   "source": [
    "### importing python libraries"
   ]
  },
  {
   "cell_type": "code",
   "execution_count": null,
   "id": "b68f2efc",
   "metadata": {},
   "outputs": [],
   "source": [
    "import numpy as np"
   ]
  },
  {
   "cell_type": "markdown",
   "id": "1c040e88",
   "metadata": {},
   "source": [
    "### reading the text data file by importing the python libraries"
   ]
  },
  {
   "cell_type": "code",
   "execution_count": null,
   "id": "0c8322d5",
   "metadata": {},
   "outputs": [],
   "source": [
    "import pandas as pd\n",
    "a = np.arange(1,568455)\n",
    "d=pd.read_csv('C:\\\\Users\\\\dell\\\\Desktop\\\\Machine Learning\\\\ML 2nd asgnmnt\\\\txt_reviews\\\\review_1.txt',sep = ':',skiprows=0)"
   ]
  },
  {
   "cell_type": "markdown",
   "id": "355d2678",
   "metadata": {},
   "source": [
    "### changing the directory of file from one path to another"
   ]
  },
  {
   "cell_type": "code",
   "execution_count": null,
   "id": "a6c801ee",
   "metadata": {},
   "outputs": [],
   "source": [
    "import os\n",
    "os.chdir('C:\\\\Users\\\\dell\\\\Desktop\\\\Machine Learning\\\\ML 2nd asgnmnt\\\\txt_reviews')"
   ]
  },
  {
   "cell_type": "markdown",
   "id": "a352e5ff",
   "metadata": {},
   "source": [
    "### openining the first_review of text data "
   ]
  },
  {
   "cell_type": "code",
   "execution_count": null,
   "id": "e8684449",
   "metadata": {},
   "outputs": [],
   "source": [
    "with open('review_1.txt', 'r') as fh:\n",
    "    num_list = [line for line in fh]"
   ]
  },
  {
   "cell_type": "markdown",
   "id": "d57ed8fd",
   "metadata": {},
   "source": [
    "### for loop for printing the reviews "
   ]
  },
  {
   "cell_type": "code",
   "execution_count": null,
   "id": "2ae3cad5",
   "metadata": {},
   "outputs": [],
   "source": [
    "data = []\n",
    "rows = []\n",
    "for i in range(1,568455):\n",
    "    with open('review_{}.txt'.format(i), 'r',encoding='UTF-8') as fh:\n",
    "        data.append([line for line in fh])\n",
    "    for i in num_list:\n",
    "        rows.append(i.split(':')[1])\n",
    "    "
   ]
  },
  {
   "cell_type": "code",
   "execution_count": null,
   "id": "8139712d",
   "metadata": {},
   "outputs": [],
   "source": [
    "rows\n",
    "len(rows)"
   ]
  },
  {
   "cell_type": "code",
   "execution_count": null,
   "id": "55923b41",
   "metadata": {},
   "outputs": [],
   "source": [
    "len(data)"
   ]
  },
  {
   "cell_type": "code",
   "execution_count": null,
   "id": "a194a7df",
   "metadata": {},
   "outputs": [],
   "source": [
    "product_id = []\n",
    "user_id = []\n",
    "profile_name = []\n",
    "Helpfulness_Numerator = []\n",
    "Helpfulness_Denominator = []\n",
    "Score = []\n",
    "Time = []\n",
    "Review_Summary = []\n",
    "Review_Text = []\n",
    "\n",
    "for i in data:\n",
    "    product_id.append(i[0][11::][0:10])\n",
    "    user_id.append(i[1][8::][0:13])\n",
    "    profile_name.append(i[2][13::])\n",
    "    Helpfulness_Numerator.append(i[3][22::][0])\n",
    "    Helpfulness_Denominator.append(i[4][24::][0])\n",
    "    Score.append(i[5][7::][0])\n",
    "    Time.append(i[6][6::][0:10])\n",
    "    Review_Summary.append(i[7][15::])\n",
    "    Review_Text.append(i[8][12::])\n",
    "    \n",
    "        \n",
    "        "
   ]
  },
  {
   "cell_type": "code",
   "execution_count": null,
   "id": "ebb71f01",
   "metadata": {},
   "outputs": [],
   "source": [
    "import numpy as np\n",
    "import pandas as pd"
   ]
  },
  {
   "cell_type": "markdown",
   "id": "0d097d34",
   "metadata": {},
   "source": [
    "### Creating a Data frame using dictionary concept "
   ]
  },
  {
   "cell_type": "code",
   "execution_count": null,
   "id": "7cc9c048",
   "metadata": {},
   "outputs": [],
   "source": [
    "df = pd.DataFrame({'ProductId':product_id,'UserId':user_id,'ProfileName':profile_name,\n",
    "                   'HelpfulnessNumerator':Helpfulness_Numerator,'HelpfulnessDenominator':Helpfulness_Denominator,\n",
    "                   'Score':Score,'Time':Time,'ReviewSummary':Review_Summary,'ReviewText':Review_Text})"
   ]
  },
  {
   "cell_type": "code",
   "execution_count": null,
   "id": "82392546",
   "metadata": {},
   "outputs": [],
   "source": [
    "df"
   ]
  },
  {
   "cell_type": "markdown",
   "id": "9b077bbb",
   "metadata": {},
   "source": [
    "### Creating a csv file"
   ]
  },
  {
   "cell_type": "code",
   "execution_count": null,
   "id": "76978ec3",
   "metadata": {},
   "outputs": [],
   "source": [
    "a = df.to_csv(r\"C:\\Users\\dell\\Desktop\\Machine Learning\\ML 2nd asgnmnt\\Amazon Food Reviews.csv\")"
   ]
  },
  {
   "cell_type": "markdown",
   "id": "315b92ad",
   "metadata": {},
   "source": [
    "### Reading Csv File"
   ]
  },
  {
   "cell_type": "code",
   "execution_count": null,
   "id": "3ea6b498",
   "metadata": {},
   "outputs": [],
   "source": [
    "data_frame = pd.read_csv(r\"C:\\Users\\dell\\Desktop\\Machine Learning\\ML 2nd asgnmnt\\Amazon Food Reviews.csv\")"
   ]
  },
  {
   "cell_type": "code",
   "execution_count": null,
   "id": "b085333c",
   "metadata": {},
   "outputs": [],
   "source": [
    "data_frame"
   ]
  },
  {
   "cell_type": "code",
   "execution_count": null,
   "id": "f39b5333",
   "metadata": {},
   "outputs": [],
   "source": []
  }
 ],
 "metadata": {
  "kernelspec": {
   "display_name": "Python 3 (ipykernel)",
   "language": "python",
   "name": "python3"
  },
  "language_info": {
   "codemirror_mode": {
    "name": "ipython",
    "version": 3
   },
   "file_extension": ".py",
   "mimetype": "text/x-python",
   "name": "python",
   "nbconvert_exporter": "python",
   "pygments_lexer": "ipython3",
   "version": "3.9.7"
  }
 },
 "nbformat": 4,
 "nbformat_minor": 5
}
